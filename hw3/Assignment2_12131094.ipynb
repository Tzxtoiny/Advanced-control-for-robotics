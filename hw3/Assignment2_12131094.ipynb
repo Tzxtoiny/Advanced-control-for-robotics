{
 "cells": [
  {
   "cell_type": "markdown",
   "metadata": {},
   "source": []
  },
  {
   "cell_type": "markdown",
   "metadata": {},
   "source": [
    "## Advanced Control for Robotics - Homework 3\n",
    "\n",
    "####<p align=\"right\"> 涂志鑫 12131094 </p>\n",
    "####<p align=\"right\"> 2022.03 </p>"
   ]
  },
  {
   "cell_type": "markdown",
   "metadata": {},
   "source": [
    "\n",
    "#### Problem 1\n",
    "\n",
    "#### Solution: \n",
    "（a)  $T_{rs}$ means the frame-{s} relative to the frame-{r}.\n",
    "$$T_{rs} = T_{ar}^{-1} T_{ea}^{-1} T_{es}$$\n",
    "（b） The coordinates of the frame {S} origin as seen from frame {r} is $^rS$, it can be expressed by \n",
    "$$\\left[\\begin{matrix} {^{r}S} \\\\  1 \\end{matrix}\\right] = T_{er}^{-1}  \\left[\\begin{matrix} {^{e}S} \\\\  1 \\end{matrix}\\right]  = \\left[\\begin{matrix} -1&0&0&1 \\\\  0&1&0&-1 \\\\0&0&-1&1 \\\\0&0&0&1 \\end{matrix}\\right] \\left[\\begin{matrix} 1\\\\1 \\\\1\\\\  1 \\end{matrix}\\right] = \\left[\\begin{matrix} 0\\\\0\\\\0 \\\\  1 \\end{matrix}\\right] $$\n",
    "$$^{r}S = \\left[\\begin{matrix} 0\\\\0\\\\0\\end{matrix}\\right]$$\n"
   ]
  },
  {
   "cell_type": "markdown",
   "metadata": {},
   "source": [
    "#### Problem 2\n",
    "\n",
    "##### Solution:\n",
    "The screw axis, $\\hat{S} =(0,0,1)$ , $q =(0,0,3)$ and $h=2$.\n",
    "<div align=center>\n",
    "<img src=prom2.png width = 50% />\n",
    "</div>\n",
    "\n"
   ]
  },
  {
   "cell_type": "markdown",
   "metadata": {},
   "source": [
    "#### Problem 3\n",
    "\n",
    "#### Solution:\n",
    "The zero position configuration of end-effector M is \n",
    "$$ \n",
    "  M = \\left[\\begin{matrix} -1&0&0&0 \\\\  0&1&0&6 \\\\0&0&-1&2 \\\\0&0&0&1 \\end{matrix}\\right]\n",
    "$$\n",
    "$\\hat{^sS_1} = [0,0,1]^T$, $q =[0,4,0]$\n",
    "The screw axis of joint1 is $^s\\hat{S_1} = \\left[\\begin{matrix} 0 \\\\  0 \\\\1 \\\\4\\\\0\\\\0 \\end{matrix}\\right]$.\n",
    "\n",
    "Joint2 is pure translation, \n",
    "The screw axis of joint2 is $^s\\hat{S_2} = \\left[\\begin{matrix} 0 \\\\  0 \\\\0\\\\0\\\\1\\\\0 \\end{matrix}\\right]$.\n",
    "\n",
    "$\\hat{^sS_3} = [0,0,-1]^T$, $q =[0,6,0]$, $h = 0.1m/rad$\n",
    "$^s\\pmb{v} = h\\hat{S} + \\pmb{w} \\times (-^sq) = [-6,0,-0.1]^T$\n",
    "The screw axis of joint3 is $^s\\hat{S_3} = \\left[\\begin{matrix} 0 \\\\  0 \\\\-1 \\\\-6\\\\0\\\\-0.1 \\end{matrix}\\right]$.\n",
    "Then use the func 'FKinSpace' to get the result of configuration."
   ]
  },
  {
   "cell_type": "code",
   "execution_count": 9,
   "metadata": {},
   "outputs": [
    {
     "name": "stdout",
     "output_type": "stream",
     "text": [
      "The end-effector configuration is:\n",
      " [[-1.14423775e-17  1.00000000e+00  0.00000000e+00 -5.00000000e+00]\n",
      " [ 1.00000000e+00  1.14423775e-17  0.00000000e+00  4.00000000e+00]\n",
      " [ 0.00000000e+00  0.00000000e+00 -1.00000000e+00  1.68584073e+00]\n",
      " [ 0.00000000e+00  0.00000000e+00  0.00000000e+00  1.00000000e+00]]\n"
     ]
    }
   ],
   "source": [
    "# problem 4\n",
    "import numpy as np\n",
    "import modern_robotics as mr\n",
    "# help(mr.FKinSpace)\n",
    "M = np.array([[-1, 0,  0, 0],\n",
    "                      [ 0, 1,  0, 6],\n",
    "                      [ 0, 0, -1, 2],\n",
    "                      [ 0, 0,  0, 1]])\n",
    "Slist = np.array([[0, 0,  1,  4, 0,    0],\n",
    "                          [0, 0,  0,  0, 1,    0],\n",
    "                          [0, 0, -1, -6, 0, -0.1]]).T\n",
    "thetalist = np.array([np.pi / 2.0, 3, np.pi])\n",
    "T = mr.FKinSpace(M,Slist,thetalist)\n",
    "print('The end-effector configuration is:\\n',T)"
   ]
  },
  {
   "cell_type": "markdown",
   "metadata": {},
   "source": [
    "\n",
    "#### Problem 4\n",
    "\n",
    "#### Solution\n",
    "(a)\n",
    "<div align=center>\n",
    "<img src=prom4.jpg width = 40% />\n",
    "</div>\n",
    "\n",
    "Assume the center of the circle plate is O, $^O\\nu_b = [0,0,1,0,0,0]^T$\n",
    "$^b\\pmb{v_b} =\\pmb{w}\\times \\pmb{^bOb} = [0,0,1]^T\\times [10,0,0]^T $.\n",
    " $$^b\\nu_b = [0,0,1,0,10,0]^T$$\n",
    "\n",
    "(b) The initial transformation matrix of b in {s}, \n",
    "            $$M = \\left[\\begin{matrix}  1&0&0&10 \\\\  0&1&0&0 \\\\0&0&1&-20 \\\\0&0&0&1 \\end{matrix}\\right]$$\n",
    "$^s \\bar{s_1} = [0,1,0,0,0,0]^T$, $^s\\bar{s_2} = [0,0,1,0,0,0]^T$\n",
    "\n",
    "$$\\begin{aligned} \n",
    "^sT_b &= e^{[^s\\bar{s_1}]\\theta} e^{[^s\\bar{s_2}]\\theta} M \\\\\n",
    "    &=e^{ \\left[\\begin{matrix}  0&0&t&0 \\\\  0&0&0&0 \\\\-t&0&0&0 \\\\0&0&0&0 \\end{matrix}\\right]}e^{\\left[\\begin{matrix}   0&-t&0&0 \\\\  t&0&0&0 \\\\0&0&0&0 \\\\0&0&0&0 \\end{matrix}\\right]}\\left[\\begin{matrix}  1&0&0&10 \\\\  0&1&0&0 \\\\0&0&1&-20 \\\\0&0&0&1 \\end{matrix}\\right]\\\\\n",
    "    &= \\left(\\begin{array}{cccc} \\cos\\left(t\\right) & 0 & \\sin\\left(t\\right) & 10\\,\\cos\\left(t\\right)-20\\,\\sin\\left(t\\right)\\\\ 0 & 1 & 0 & 0\\\\ -\\sin\\left(t\\right) & 0 & \\cos\\left(t\\right) & -20\\,\\cos\\left(t\\right)-10\\,\\sin\\left(t\\right)\\\\ 0 & 0 & 0 & 1 \\end{array}\\right)\n",
    "\\end{aligned} $$\n",
    "\n",
    "$$p(t) = \\left(\\begin{array}{c} 10\\,\\cos\\left(t\\right)-20\\,\\sin\\left(t\\right)\\\\ 0\\\\ -20\\,\\cos\\left(t\\right)-10\\,\\sin\\left(t\\right) \\end{array}\\right)$$\n",
    "\n",
    "The linear velocity  $\\dot p(t) = \\left(\\begin{array}{c} -20\\,\\cos\\left(t\\right)-10\\,\\sin\\left(t\\right)\\\\ 0\\\\ -10\\,\\cos\\left(t\\right)+20\\,\\sin\\left(t\\right) \\end{array}\\right)$\n"
   ]
  },
  {
   "cell_type": "markdown",
   "metadata": {},
   "source": [
    "#### Problem 5\n",
    "\n",
    "#### Solution:\n",
    "(a)\n",
    "The initial transformation matrix of b in {s}, \n",
    "            $$M = \\left[\\begin{matrix}  -1&0&0&0 \\\\  0&0&1&3 \\\\0&1&0&-2 \\\\0&0&0&1 \\end{matrix}\\right]$$\n",
    "$^s \\bar{s_1} = [0,1,0,0,0,0]^T$, $^s\\bar{s_2} = [1,0,0,0,-2,0]^T$, $^s\\bar{s_2} = [0,0,0,0,1,0]^T$\n",
    "When the $\\theta = (90^{\\circ},90^{\\circ},1)$, use the func 'FKinSpace' to get the result of configuration.\n"
   ]
  },
  {
   "cell_type": "code",
   "execution_count": 2,
   "metadata": {},
   "outputs": [
    {
     "name": "stdout",
     "output_type": "stream",
     "text": [
      "The end-effector configuration is:\n",
      " [[-1.11022302e-16  1.11022302e-16  1.00000000e+00  2.00000000e+00]\n",
      " [ 0.00000000e+00 -1.00000000e+00  1.11022302e-16  4.44089210e-16]\n",
      " [ 1.00000000e+00  1.23259516e-32  1.11022302e-16  2.22044605e-16]\n",
      " [ 0.00000000e+00  0.00000000e+00  0.00000000e+00  1.00000000e+00]]\n",
      "The sapce jacobian for this configuration is:\n",
      " [[ 0.00000000e+00  1.11022302e-16  0.00000000e+00]\n",
      " [ 1.00000000e+00  0.00000000e+00  0.00000000e+00]\n",
      " [ 0.00000000e+00 -1.00000000e+00  0.00000000e+00]\n",
      " [ 0.00000000e+00  0.00000000e+00  1.00000000e+00]\n",
      " [ 0.00000000e+00 -2.00000000e+00  1.11022302e-16]\n",
      " [ 0.00000000e+00  0.00000000e+00  1.11022302e-16]]\n"
     ]
    }
   ],
   "source": [
    "# problem 5\n",
    "import numpy as np\n",
    "import modern_robotics as mr\n",
    "# help(mr.FKinSpace)\n",
    "\n",
    "# show the forward kinematics configuration.\n",
    "M = np.array([[-1, 0,  0, 0],   \n",
    "              [ 0, 0,  1, 3],\n",
    "              [ 0, 1, 0, -2],\n",
    "              [ 0, 0,  0, 1]])\n",
    "Slist = np.array([[0, 1,  0,  0, 0,    0],\n",
    "                          [1, 0,  0,  0, -2, 0],\n",
    "                          [0, 0, 0, 0, 1, 0]]).T\n",
    "thetalist = np.array([np.pi / 2.0, np.pi / 2.0, 1])\n",
    "T = mr.FKinSpace(M,Slist,thetalist)\n",
    "print('The end-effector configuration is:\\n',T)\n",
    "\n",
    "# draw the arm and the end-effector frame in this configuration\n",
    "\n",
    "\n",
    "# obtain the sapce jacobian\n",
    "Js = mr.JacobianSpace(Slist,thetalist)\n",
    "print('The sapce jacobian for this configuration is:\\n',Js)"
   ]
  },
  {
   "cell_type": "markdown",
   "metadata": {},
   "source": [
    "#### Problem 6\n",
    "Consider the robot shown in Fig.4.3.\n",
    " \n",
    "(a) Use Drake to build this robot model (similar to the example we discussed during class) and show the snapshots of the Meshcat visualization at three different sets of joint positions.\n",
    "\n",
    "(b) Write your own forward kinematics function (using PoE) to compute the pose of the end-effector frame (i.e. frame {3}) relative to the world frame {0}. Test your function for a few different sets of joint positions and compare your results with Drake’s built-in function.\n",
    "\n",
    "(c) Write your own function to compute the geometric Jacobian of the end-effector frame (i.e. frame {3}) expressed in the world frame {0}. Test your function for a few different sets of joint positions and compare your results with Drake’s built-in function.\n",
    "\n",
    "(d) Let q be a point attached to frame {3} with local coordinate $^3q = (1, 2, 3)$.\n",
    "\n",
    "1.Derive the (analytic) Jacobian 0Ja(θ), i.e., $^0\\dot{q} = ^0J_a(θ)\\dot{θ}$. Show all your steps.\n",
    "\n",
    "2.Write a function in Drake to implement your formula. Test your function for a few\n",
    "different sets of joint positions/joint velocities, and compare your results with the Drake’s built-in function.\n",
    "\n",
    "#### Solution:\n",
    "\n",
    " \n",
    "\n",
    "\n"
   ]
  },
  {
   "cell_type": "code",
   "execution_count": 11,
   "metadata": {},
   "outputs": [],
   "source": [
    "# problem 6\n",
    "import numpy as np"
   ]
  }
 ],
 "metadata": {
  "interpreter": {
   "hash": "aee8b7b246df8f9039afb4144a1f6fd8d2ca17a180786b69acc140d282b71a49"
  },
  "kernelspec": {
   "display_name": "Python 3.8.2 64-bit",
   "language": "python",
   "name": "python3"
  },
  "language_info": {
   "codemirror_mode": {
    "name": "ipython",
    "version": 3
   },
   "file_extension": ".py",
   "mimetype": "text/x-python",
   "name": "python",
   "nbconvert_exporter": "python",
   "pygments_lexer": "ipython3",
   "version": "3.8.2"
  },
  "orig_nbformat": 4
 },
 "nbformat": 4,
 "nbformat_minor": 2
}
