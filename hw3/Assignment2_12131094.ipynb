{
 "cells": [
  {
   "cell_type": "markdown",
   "metadata": {},
   "source": []
  },
  {
   "cell_type": "markdown",
   "metadata": {},
   "source": [
    "## Advanced Control for Robotics - Homework 3\n",
    "\n",
    "####<p align=\"right\"> 涂志鑫 12131094 </p>\n",
    "####<p align=\"right\"> 2022.03 </p>"
   ]
  },
  {
   "cell_type": "markdown",
   "metadata": {},
   "source": [
    "\n",
    "#### Problem 1\n",
    "\n",
    "#### Solution: \n",
    "（a)  $T_{rs}$ means the frame-{s} relative to the frame-{r}.\n",
    "$$T_{rs} = T_{ar}^{-1} T_{ea}^{-1} T_{es}$$\n",
    "（b） The coordinates of the frame {S} origin as seen from frame {r} is $^rS$, it can be expressed by \n",
    "$$\\left[\\begin{matrix} {^{r}S} \\\\  1 \\end{matrix}\\right] = T_{er}^{-1}  \\left[\\begin{matrix} {^{e}S} \\\\  1 \\end{matrix}\\right]  = \\left[\\begin{matrix} -1&0&0&1 \\\\  0&1&0&-1 \\\\0&0&-1&1 \\\\0&0&0&1 \\end{matrix}\\right] \\left[\\begin{matrix} 1\\\\1 \\\\1\\\\  1 \\end{matrix}\\right] = \\left[\\begin{matrix} 0\\\\0\\\\0 \\\\  1 \\end{matrix}\\right] $$\n",
    "$$^{r}S = \\left[\\begin{matrix} 0\\\\0\\\\0\\end{matrix}\\right]$$\n"
   ]
  },
  {
   "cell_type": "markdown",
   "metadata": {},
   "source": [
    "#### Problem 2\n",
    "\n",
    "##### Solution:\n",
    "The screw axis, $\\hat{S} =(0,0,1)$ , $q =(0,0,3)$ and $h=2$.\n",
    "<div align=center>\n",
    "<img src=prom2.png width = 50% />\n",
    "</div>\n",
    "\n"
   ]
  },
  {
   "cell_type": "markdown",
   "metadata": {},
   "source": [
    "#### Problem 3\n",
    "\n",
    "#### Solution:\n",
    "The zero position configuration of end-effector M is \n",
    "$$ \n",
    "  M = \\left[\\begin{matrix} -1&0&0&0 \\\\  0&1&0&6 \\\\0&0&-1&2 \\\\0&0&0&1 \\end{matrix}\\right]\n",
    "$$\n",
    "$\\hat{^sS_1} = [0,0,1]^T$, $q =[0,4,0]$\n",
    "The screw axis of joint1 is $^s\\hat{S_1} = \\left[\\begin{matrix} 0 \\\\  0 \\\\1 \\\\4\\\\0\\\\0 \\end{matrix}\\right]$.\n",
    "\n",
    "Joint2 is pure translation, \n",
    "The screw axis of joint2 is $^s\\hat{S_2} = \\left[\\begin{matrix} 0 \\\\  0 \\\\0\\\\0\\\\1\\\\0 \\end{matrix}\\right]$.\n",
    "\n",
    "$\\hat{^sS_3} = [0,0,-1]^T$, $q =[0,6,0]$, $h = 0.1m/rad$\n",
    "$^s\\pmb{v} = h\\hat{S} + \\pmb{w} \\times (-^sq) = [-6,0,-0.1]^T$\n",
    "The screw axis of joint3 is $^s\\hat{S_3} = \\left[\\begin{matrix} 0 \\\\  0 \\\\-1 \\\\-6\\\\0\\\\-0.1 \\end{matrix}\\right]$.\n",
    "Then use the func 'FKinSpace' to get the result of configuration."
   ]
  },
  {
   "cell_type": "code",
   "execution_count": 9,
   "metadata": {},
   "outputs": [
    {
     "name": "stdout",
     "output_type": "stream",
     "text": [
      "The end-effector configuration is:\n",
      " [[-1.14423775e-17  1.00000000e+00  0.00000000e+00 -5.00000000e+00]\n",
      " [ 1.00000000e+00  1.14423775e-17  0.00000000e+00  4.00000000e+00]\n",
      " [ 0.00000000e+00  0.00000000e+00 -1.00000000e+00  1.68584073e+00]\n",
      " [ 0.00000000e+00  0.00000000e+00  0.00000000e+00  1.00000000e+00]]\n"
     ]
    }
   ],
   "source": [
    "# problem 4\n",
    "import numpy as np\n",
    "import modern_robotics as mr\n",
    "# help(mr.FKinSpace)\n",
    "M = np.array([[-1, 0,  0, 0],\n",
    "                      [ 0, 1,  0, 6],\n",
    "                      [ 0, 0, -1, 2],\n",
    "                      [ 0, 0,  0, 1]])\n",
    "Slist = np.array([[0, 0,  1,  4, 0,    0],\n",
    "                          [0, 0,  0,  0, 1,    0],\n",
    "                          [0, 0, -1, -6, 0, -0.1]]).T\n",
    "thetalist = np.array([np.pi / 2.0, 3, np.pi])\n",
    "T = mr.FKinSpace(M,Slist,thetalist)\n",
    "print('The end-effector configuration is:\\n',T)"
   ]
  },
  {
   "cell_type": "markdown",
   "metadata": {},
   "source": [
    "\n",
    "#### Problem 4\n",
    "\n",
    "#### Solution\n",
    "(a)\n",
    "<div align=center>\n",
    "<img src=prom4.jpg width = 40% />\n",
    "</div>\n",
    "\n",
    "Assume the center of the circle plate is O, $^O\\nu_b = [0,0,1,0,0,0]^T$\n",
    "$^b\\pmb{v_b} =\\pmb{w}\\times \\pmb{^bOb} = [0,0,1]^T\\times [10,0,0]^T $.\n",
    " $$^b\\nu_b = [0,0,1,0,10,0]^T$$\n",
    "\n",
    "(b) The initial transformation matrix of b in {s}, \n",
    "            $$M = \\left[\\begin{matrix}  1&0&0&10 \\\\  0&1&0&0 \\\\0&0&1&-20 \\\\0&0&0&1 \\end{matrix}\\right]$$\n",
    "$^s \\bar{s_1} = [0,1,0,0,0,0]^T$, $^s\\bar{s_2} = [0,0,1,0,0,0]^T$\n",
    "\n",
    "$$\\begin{aligned} \n",
    "^sT_b &= e^{[^s\\bar{s_1}]\\theta} e^{[^s\\bar{s_2}]\\theta} M \\\\\n",
    "    &=e^{ \\left[\\begin{matrix}  0&0&t&0 \\\\  0&0&0&0 \\\\-t&0&0&0 \\\\0&0&0&0 \\end{matrix}\\right]}e^{\\left[\\begin{matrix}   0&-t&0&0 \\\\  t&0&0&0 \\\\0&0&0&0 \\\\0&0&0&0 \\end{matrix}\\right]}\\left[\\begin{matrix}  1&0&0&10 \\\\  0&1&0&0 \\\\0&0&1&-20 \\\\0&0&0&1 \\end{matrix}\\right]\\\\\n",
    "    &= \\left(\\begin{array}{cccc} \\cos\\left(t\\right) & 0 & \\sin\\left(t\\right) & 10\\,\\cos\\left(t\\right)-20\\,\\sin\\left(t\\right)\\\\ 0 & 1 & 0 & 0\\\\ -\\sin\\left(t\\right) & 0 & \\cos\\left(t\\right) & -20\\,\\cos\\left(t\\right)-10\\,\\sin\\left(t\\right)\\\\ 0 & 0 & 0 & 1 \\end{array}\\right)\n",
    "\\end{aligned} $$\n",
    "\n",
    "$$p(t) = \\left(\\begin{array}{c} 10\\,\\cos\\left(t\\right)-20\\,\\sin\\left(t\\right)\\\\ 0\\\\ -20\\,\\cos\\left(t\\right)-10\\,\\sin\\left(t\\right) \\end{array}\\right)$$\n",
    "\n",
    "The linear velocity  $\\dot p(t) = \\left(\\begin{array}{c} -20\\,\\cos\\left(t\\right)-10\\,\\sin\\left(t\\right)\\\\ 0\\\\ -10\\,\\cos\\left(t\\right)+20\\,\\sin\\left(t\\right) \\end{array}\\right)$\n"
   ]
  },
  {
   "cell_type": "markdown",
   "metadata": {},
   "source": [
    "#### Problem 5\n",
    "\n",
    "#### Solution:\n",
    "(a)\n",
    "The initial transformation matrix of b in {s}, \n",
    "            $$M = \\left[\\begin{matrix}  -1&0&0&0 \\\\  0&0&1&3 \\\\0&1&0&-2 \\\\0&0&0&1 \\end{matrix}\\right]$$\n",
    "$^s \\bar{s_1} = [0,1,0,0,0,0]^T$, $^s\\bar{s_2} = [1,0,0,0,-2,0]^T$, $^s\\bar{s_2} = [0,0,0,0,1,0]^T$\n",
    "When the $\\theta = (90^{\\circ},90^{\\circ},1)$, use the func 'FKinSpace' to get the result of configuration.\n"
   ]
  },
  {
   "cell_type": "code",
   "execution_count": 2,
   "metadata": {},
   "outputs": [
    {
     "name": "stdout",
     "output_type": "stream",
     "text": [
      "The end-effector configuration is:\n",
      " [[-1.11022302e-16  1.11022302e-16  1.00000000e+00  2.00000000e+00]\n",
      " [ 0.00000000e+00 -1.00000000e+00  1.11022302e-16  4.44089210e-16]\n",
      " [ 1.00000000e+00  1.23259516e-32  1.11022302e-16  2.22044605e-16]\n",
      " [ 0.00000000e+00  0.00000000e+00  0.00000000e+00  1.00000000e+00]]\n",
      "The sapce jacobian for this configuration is:\n",
      " [[ 0.00000000e+00  1.11022302e-16  0.00000000e+00]\n",
      " [ 1.00000000e+00  0.00000000e+00  0.00000000e+00]\n",
      " [ 0.00000000e+00 -1.00000000e+00  0.00000000e+00]\n",
      " [ 0.00000000e+00  0.00000000e+00  1.00000000e+00]\n",
      " [ 0.00000000e+00 -2.00000000e+00  1.11022302e-16]\n",
      " [ 0.00000000e+00  0.00000000e+00  1.11022302e-16]]\n"
     ]
    }
   ],
   "source": [
    "# problem 5\n",
    "import numpy as np\n",
    "import modern_robotics as mr\n",
    "# help(mr.FKinSpace)\n",
    "\n",
    "# show the forward kinematics configuration.\n",
    "M = np.array([[-1, 0,  0, 0],   \n",
    "              [ 0, 0,  1, 3],\n",
    "              [ 0, 1, 0, -2],\n",
    "              [ 0, 0,  0, 1]])\n",
    "Slist = np.array([[0, 1,  0,  0, 0,    0],\n",
    "                          [1, 0,  0,  0, -2, 0],\n",
    "                          [0, 0, 0, 0, 1, 0]]).T\n",
    "thetalist = np.array([np.pi / 2.0, np.pi / 2.0, 1])\n",
    "T = mr.FKinSpace(M,Slist,thetalist)\n",
    "print('The end-effector configuration is:\\n',T)\n",
    "\n",
    "# draw the arm and the end-effector frame in this configuration\n",
    "\n",
    "\n",
    "# obtain the sapce jacobian\n",
    "Js = mr.JacobianSpace(Slist,thetalist)\n",
    "print('The sapce jacobian for this configuration is:\\n',Js)"
   ]
  },
  {
   "cell_type": "markdown",
   "metadata": {},
   "source": [
    "#### Problem 6\n",
    "Consider the robot shown in Fig.4.3.\n",
    " \n",
    "(a) Use Drake to build this robot model (similar to the example we discussed during class) and show the snapshots of the Meshcat visualization at three different sets of joint positions.\n",
    "\n",
    "(b) Write your own forward kinematics function (using PoE) to compute the pose of the end-effector frame (i.e. frame {3}) relative to the world frame {0}. Test your function for a few different sets of joint positions and compare your results with Drake’s built-in function.\n",
    "\n",
    "(c) Write your own function to compute the geometric Jacobian of the end-effector frame (i.e. frame {3}) expressed in the world frame {0}. Test your function for a few different sets of joint positions and compare your results with Drake’s built-in function.\n",
    "\n",
    "(d) Let q be a point attached to frame {3} with local coordinate $^3q = (1, 2, 3)$.\n",
    "\n",
    "1.Derive the (analytic) Jacobian 0Ja(θ), i.e., $^0\\dot{q} = ^0J_a(θ)\\dot{θ}$. Show all your steps.\n",
    "\n",
    "2.Write a function in Drake to implement your formula. Test your function for a few\n",
    "different sets of joint positions/joint velocities, and compare your results with the Drake’s built-in function.\n",
    "\n",
    "#### Solution:\n",
    "\n",
    " \n",
    "\n",
    "\n"
   ]
  },
  {
   "cell_type": "code",
   "execution_count": 9,
   "metadata": {},
   "outputs": [
    {
     "name": "stderr",
     "output_type": "stream",
     "text": [
      "[2022-04-02 11:50:28.129] [console] [info] Meshcat listening for connections at http://localhost:7000\n"
     ]
    }
   ],
   "source": [
    "# problem 6\n",
    "import numpy as np\n",
    "import pydot\n",
    "from IPython.display import display, SVG, clear_output\n",
    "\n",
    "\n",
    "from pydrake.math import RigidTransform, RollPitchYaw\n",
    "from pydrake.multibody.plant import AddMultibodyPlantSceneGraph\n",
    "from pydrake.all import (Parser, Meshcat, DiagramBuilder,\n",
    "                        MeshcatVisualizerCpp, JacobianWrtVariable,\n",
    "                        MakeRenderEngineVtk, RenderEngineVtkParams)\n",
    "from pydrake.geometry import (Box, Cylinder)\n",
    "from pydrake.multibody.tree import (PrismaticJoint, UnitInertia, SpatialInertia, RevoluteJoint, FixedOffsetFrame, WeldJoint)\n",
    "from manipulation.meshcat_cpp_utils import MeshcatJointSliders\n",
    "from manipulation.scenarios import AddMultibodyTriad\n",
    "meshcat = Meshcat()"
   ]
  },
  {
   "cell_type": "code",
   "execution_count": 10,
   "metadata": {},
   "outputs": [],
   "source": [
    "# Build robot model in Drake\n",
    "builder = DiagramBuilder()\n",
    "plant, scene_graph = AddMultibodyPlantSceneGraph(builder, 0.0)\n",
    "\n",
    "# parameters\n",
    "L0 = 0.8     #lenght of link 0\n",
    "L1 = 1\n",
    "L2 = 0.5\n",
    "L3 = 0.08    # end effector\n",
    "\n",
    "RGBA_Color0 = [0.5, 0.5, 0.5, 0.4]\n",
    "RGBA_Color1 = [0, 0.5, 0.5, 0.4]\n",
    "RGBA_Color2 = [0.6, 0, 0, 0.4]\n",
    "\n",
    "my_model = plant.AddModelInstance(\"my_robot\")\n",
    "\n",
    "#SpatialInertia(mass, reference point (wrt CoM), UnitInertia()): 6x6 matrix\n",
    "default_inertia = SpatialInertia(1, [0, 0, L0/2], UnitInertia(1, 1, 1))  #This does not matter for kinematics\n",
    "\n",
    "link_0 = plant.AddRigidBody(\"link_0\", my_model, default_inertia)\n",
    "\n",
    "link_1 = plant.AddRigidBody(\"link_1\", my_model, default_inertia)\n",
    "\n",
    "link_2 = plant.AddRigidBody(\"link_2\", my_model, default_inertia)\n",
    "\n",
    "link_3 = plant.AddRigidBody(\"link_3\", my_model, default_inertia)\n",
    "\n",
    "# plant.RegisterVisualGeometry(body, \n",
    "c =0.05\n",
    "plant.RegisterVisualGeometry(\n",
    "    link_0,\n",
    "    RigidTransform(RollPitchYaw(0, 0, 0), [0, 0, L0/2]),\n",
    "    Cylinder(c, L0),\n",
    "    \"link_0\",\n",
    "    RGBA_Color0)\n",
    "\n",
    "plant.RegisterVisualGeometry(\n",
    "    link_1,\n",
    "    RigidTransform(RollPitchYaw(0, 0, 0), [L1/2, 0, 0]),\n",
    "    Box(L1,c,c),\n",
    "    \"link_1\",\n",
    "    RGBA_Color1)\n",
    "\n",
    "plant.RegisterVisualGeometry(\n",
    "    link_2,\n",
    "    RigidTransform(RollPitchYaw(0, 0, 0), [L2/2, 0, 0]),\n",
    "    Box(L2, c, c),\n",
    "    \"link_2\",\n",
    "    RGBA_Color2)\n",
    "plant.RegisterVisualGeometry(\n",
    "    link_3,\n",
    "    RigidTransform(RollPitchYaw(0, 0, 0), [0, 0, 0]),\n",
    "    Box(L3, L3, L3),\n",
    "    \"link_3\",\n",
    "    RGBA_Color0)\n",
    "\n",
    "Zero_Frame = plant.AddFrame(FixedOffsetFrame('WorldFrame',\n",
    "    link_0,\n",
    "    RigidTransform(RollPitchYaw(0, 0, 0), [0, 0, L0])))\n",
    "\n",
    "\n",
    "Joint1_Frame = plant.AddFrame(FixedOffsetFrame(\n",
    "    link_0,\n",
    "    RigidTransform(RollPitchYaw(0, 0, 0), [0, 0, L0])))\n",
    "\n",
    "Joint2_Frame = plant.AddFrame(FixedOffsetFrame(\n",
    "    link_1,\n",
    "    RigidTransform(RollPitchYaw(0, np.pi/2, -np.pi/2), [L1, 0, 0])))\n",
    "\n",
    "Joint3_Frame = plant.AddFrame(FixedOffsetFrame(\n",
    "    link_2,\n",
    "    RigidTransform(RollPitchYaw(-np.pi/2, 0, 0), [L2, 0, 0])))\n",
    "\n",
    "Joint1 = plant.AddJoint(RevoluteJoint(\n",
    "    name=\"Joint1\", frame_on_parent=Joint1_Frame,\n",
    "    frame_on_child=link_1.body_frame(), axis=[0, 0, 1],\n",
    "    pos_lower_limit=-3.14,\n",
    "    pos_upper_limit=3.14,\n",
    "    damping=0.0))\n",
    "Joint2 = plant.AddJoint(RevoluteJoint(\n",
    "    name=\"Joint2\", frame_on_parent=Joint2_Frame,\n",
    "    frame_on_child=link_2.body_frame(), axis=[0, 0, 1],\n",
    "    pos_lower_limit=-3.14,\n",
    "    pos_upper_limit=3.14,\n",
    "    damping=0.0))\n",
    "Joint3 = plant.AddJoint(RevoluteJoint(\n",
    "    name=\"Joint3\", frame_on_parent=Joint3_Frame,\n",
    "    frame_on_child=link_3.body_frame(), axis=[0, 0, 1],\n",
    "    pos_lower_limit=-3.14,\n",
    "    pos_upper_limit=3.14,\n",
    "    damping=0.0))\n",
    "\n",
    "plant.WeldFrames(\n",
    "    frame_on_parent_P=plant.world_frame(),\n",
    "    frame_on_child_C=link_0.body_frame(),\n",
    "    X_PC=RigidTransform.Identity())\n",
    "\n",
    "\n",
    "# add frames of interest\n",
    "G = plant.AddFrame(FixedOffsetFrame('EndEffector',\n",
    "    link_3,\n",
    "    RigidTransform(RollPitchYaw(0, 0, 0), [0, 0, 0])))\n",
    "\n",
    "\n",
    "# Draw RGB frames for visualization\n",
    "# only one frame for each link\n",
    "for body_name in [\"WorldFrame\", \"link_1\", \"link_2\", \"EndEffector\"]:\n",
    "    AddMultibodyTriad(plant.GetFrameByName(body_name), scene_graph, 0.20, 0.008)\n",
    "    \n",
    "    \n"
   ]
  },
  {
   "cell_type": "code",
   "execution_count": null,
   "metadata": {},
   "outputs": [],
   "source": [
    "# Finalize and visualize\n",
    "plant.Finalize()\n",
    "renderer_name = \"renderer\"\n",
    "scene_graph.AddRenderer(renderer_name, MakeRenderEngineVtk(RenderEngineVtkParams()))\n",
    "meshcat.Delete()\n",
    "meshcat_vis = MeshcatVisualizerCpp.AddToBuilder(builder, scene_graph, meshcat)\n",
    "diagram = builder.Build()\n",
    "diagram_context = diagram.CreateDefaultContext()\n",
    "diagram.Publish(diagram_context)"
   ]
  },
  {
   "cell_type": "code",
   "execution_count": null,
   "metadata": {},
   "outputs": [],
   "source": [
    "# write down the screw axis\n",
    "import modern_robotics as mr\n",
    "\n",
    "# step 0: compute M \n",
    "M = mr.RpToTrans(np.array([[0, 0, 1], [0, 1, 0], [-1, 0, 0]]), np.array([L1, 0, -L2]))\n",
    "# step 1: compute all the screw axis\n",
    "\n",
    "Sbar_3_0=mr.ScrewToAxis(np.array([0,0,-L2]),np.array([1,0,0]),0)\n",
    "Sbar_2_0=mr.ScrewToAxis(np.array([L1,0,0]),np.array([0,-1,0]),0)\n",
    "Sbar_1_0=mr.ScrewToAxis(np.array([0,0,0]),np.array([0,0,1]),0)\n",
    "\n",
    "def myPoE(theta1,theta2,theta3):\n",
    "    SbarMatrix_3_0=mr.VecTose3(Sbar_3_0)\n",
    "    SbarMatrix_2_0=mr.VecTose3(Sbar_2_0)\n",
    "    SbarMatrix_1_0=mr.VecTose3(Sbar_1_0)\n",
    "    return mr.MatrixExp6(SbarMatrix_1_0*theta1)@mr.MatrixExp6(SbarMatrix_2_0*theta2)@mr.MatrixExp6(SbarMatrix_3_0*theta3)@M\n"
   ]
  },
  {
   "cell_type": "code",
   "execution_count": null,
   "metadata": {},
   "outputs": [],
   "source": [
    "# M: The homogeneous transformation matrix at home position\n",
    "theta1=0\n",
    "theta2=0\n",
    "theta3=np.pi/6\n",
    "plant.SetPositions(plant.GetMyContextFromRoot(diagram_context), my_model_instance, [theta1, theta2, theta3]) # theta1, theta2\n",
    "diagram.Publish(diagram_context)\n",
    "\n",
    "plant_context = plant.GetMyMutableContextFromRoot(diagram_context)\n",
    "T0e = G.CalcPose(plant_context, Zero_Frame)\n",
    "print(T0e.GetAsMatrix4())"
   ]
  },
  {
   "cell_type": "code",
   "execution_count": null,
   "metadata": {},
   "outputs": [],
   "source": [
    "Tbs = myPoE(theta1,theta2,theta3)\n",
    "print(Tbs)"
   ]
  },
  {
   "cell_type": "code",
   "execution_count": null,
   "metadata": {},
   "outputs": [],
   "source": [
    "def myGeometrixJacobian(theta1,theta2,theta3):\n",
    "    SbarMatrix_2_0=mr.VecTose3(Sbar_2_0)\n",
    "    SbarMatrix_1_0=mr.VecTose3(Sbar_1_0)\n",
    "    # compute the SE3 for each frame\n",
    "    T_01 = mr.MatrixExp6(SbarMatrix_1_0*theta1)\n",
    "    T_12 = mr.MatrixExp6(SbarMatrix_2_0*theta2)\n",
    "    J1 = Sbar_1_0.reshape(6,1)\n",
    "    J2 = np.matmul(mr.Adjoint(T_01), Sbar_2_0.reshape(6,1))\n",
    "    J3 = np.matmul(mr.Adjoint(T_01@T_12), Sbar_3_0.reshape(6,1))\n",
    "    return  np.block([J1, J2, J3])"
   ]
  },
  {
   "cell_type": "code",
   "execution_count": null,
   "metadata": {},
   "outputs": [],
   "source": [
    "J = myGeometrixJacobian(theta1,theta2,theta3)\n",
    "print(J)"
   ]
  },
  {
   "cell_type": "code",
   "execution_count": null,
   "metadata": {},
   "outputs": [],
   "source": [
    "J_G  = plant.CalcJacobianSpatialVelocity(plant_context, JacobianWrtVariable.kQDot, G, [0,0,0], Zero_Frame, Zero_Frame)\n",
    "# JA_G = plant.CalcJacobianTranslationalVelocity(plant_context, JacobianWrtVariable.kQDot, G, [0,0,0], Zero_Frame, Zero_Frame)\n",
    "print(J_G)\n",
    "# print(JA_G)"
   ]
  }
 ],
 "metadata": {
  "interpreter": {
   "hash": "aee8b7b246df8f9039afb4144a1f6fd8d2ca17a180786b69acc140d282b71a49"
  },
  "kernelspec": {
   "display_name": "Python 3.8.2 64-bit",
   "language": "python",
   "name": "python3"
  },
  "language_info": {
   "codemirror_mode": {
    "name": "ipython",
    "version": 3
   },
   "file_extension": ".py",
   "mimetype": "text/x-python",
   "name": "python",
   "nbconvert_exporter": "python",
   "pygments_lexer": "ipython3",
   "version": "3.8.12"
  },
  "orig_nbformat": 4
 },
 "nbformat": 4,
 "nbformat_minor": 2
}
