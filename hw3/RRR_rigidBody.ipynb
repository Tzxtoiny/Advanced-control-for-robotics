{
 "cells": [
  {
   "cell_type": "code",
   "execution_count": 105,
   "metadata": {},
   "outputs": [
    {
     "name": "stderr",
     "output_type": "stream",
     "text": [
      "[2022-03-31 01:00:21.926] [console] [info] Meshcat listening for connections at http://localhost:7001\n"
     ]
    }
   ],
   "source": [
    "import numpy as np\n",
    "import pydot\n",
    "from IPython.display import display, SVG, clear_output\n",
    "\n",
    "\n",
    "from pydrake.math import RigidTransform, RollPitchYaw\n",
    "from pydrake.multibody.plant import AddMultibodyPlantSceneGraph\n",
    "from pydrake.all import (Parser, Meshcat, DiagramBuilder,\n",
    "                        MeshcatVisualizerCpp, JacobianWrtVariable,\n",
    "                        MakeRenderEngineVtk, RenderEngineVtkParams)\n",
    "from pydrake.geometry import (Box, Cylinder)\n",
    "from pydrake.multibody.tree import (PrismaticJoint, UnitInertia, SpatialInertia, RevoluteJoint, FixedOffsetFrame, WeldJoint)\n",
    "from manipulation.meshcat_cpp_utils import MeshcatJointSliders\n",
    "from manipulation.scenarios import AddMultibodyTriad\n",
    "meshcat = Meshcat()"
   ]
  },
  {
   "cell_type": "code",
   "execution_count": 106,
   "metadata": {},
   "outputs": [],
   "source": [
    "# Build robot model in Drake\n",
    "builder = DiagramBuilder()\n",
    "plant, scene_graph = AddMultibodyPlantSceneGraph(builder, 0.0)\n",
    "\n",
    "# parameters\n",
    "L0 = 0.8 #lenght of link 0\n",
    "L1 = 1\n",
    "L2 = 0.5\n",
    "L3 = 0.08 # end effector\n",
    "\n",
    "RGBA_Color0 = [0.5, 0.5, 0.5, 0.4]\n",
    "RGBA_Color1 = [0, 0.5, 0.5, 0.4]\n",
    "RGBA_Color2 = [0.9, 0, 0, 0.4]\n",
    "\n",
    "my_model_instance = plant.AddModelInstance(\"my_robot\")\n",
    "\n",
    "#SpatialInertia(mass, reference point (wrt CoM), UnitInertia()): 6x6 matrix\n",
    "default_inertia = SpatialInertia(1, [0, 0, L0/2], UnitInertia(1, 1, 1))  #This does not matter for kinematics\n",
    "\n",
    "link_0 = plant.AddRigidBody(\"link_0\", my_model_instance, default_inertia)\n",
    "\n",
    "link_1 = plant.AddRigidBody(\"link_1\", my_model_instance, default_inertia)\n",
    "\n",
    "link_2 = plant.AddRigidBody(\"link_2\", my_model_instance, default_inertia)\n",
    "\n",
    "link_3 = plant.AddRigidBody(\"link_3\", my_model_instance, default_inertia)\n",
    "\n",
    "# plant.RegisterVisualGeometry(body, \n",
    "c =0.05\n",
    "plant.RegisterVisualGeometry(\n",
    "    link_0,\n",
    "    RigidTransform(RollPitchYaw(0, 0, 0), [0, 0, L0/2]),\n",
    "    Cylinder(c, L0),\n",
    "    \"link_0\",\n",
    "    RGBA_Color0)\n",
    "\n",
    "plant.RegisterVisualGeometry(\n",
    "    link_1,\n",
    "    RigidTransform(RollPitchYaw(0, 0, 0), [L1/2, 0, 0]),\n",
    "    Box(L1,c,c),\n",
    "    \"link_1\",\n",
    "    RGBA_Color1)\n",
    "\n",
    "plant.RegisterVisualGeometry(\n",
    "    link_2,\n",
    "    RigidTransform(RollPitchYaw(0, 0, 0), [L2/2, 0, 0]),\n",
    "    Box(L2, c, c),\n",
    "    \"link_2\",\n",
    "    RGBA_Color2)\n",
    "plant.RegisterVisualGeometry(\n",
    "    link_3,\n",
    "    RigidTransform(RollPitchYaw(0, 0, 0), [0, 0, 0]),\n",
    "    Box(L3, L3, L3),\n",
    "    \"link_3\",\n",
    "    RGBA_Color0)\n",
    "\n",
    "Zero_Frame = plant.AddFrame(FixedOffsetFrame('WorldFrame',\n",
    "    link_0,\n",
    "    RigidTransform(RollPitchYaw(0, 0, 0), [0, 0, L0])))\n",
    "\n",
    "\n",
    "Joint1_Frame = plant.AddFrame(FixedOffsetFrame(\n",
    "    link_0,\n",
    "    RigidTransform(RollPitchYaw(0, 0, 0), [0, 0, L0])))\n",
    "\n",
    "Joint2_Frame = plant.AddFrame(FixedOffsetFrame(\n",
    "    link_1,\n",
    "    RigidTransform(RollPitchYaw(0, np.pi/2, -np.pi/2), [L1, 0, 0])))\n",
    "\n",
    "Joint3_Frame = plant.AddFrame(FixedOffsetFrame(\n",
    "    link_2,\n",
    "    RigidTransform(RollPitchYaw(-np.pi/2, 0, 0), [L2, 0, 0])))\n",
    "\n",
    "Joint1 = plant.AddJoint(RevoluteJoint(\n",
    "    name=\"Joint1\", frame_on_parent=Joint1_Frame,\n",
    "    frame_on_child=link_1.body_frame(), axis=[0, 0, 1],\n",
    "    pos_lower_limit=-3.14,\n",
    "    pos_upper_limit=3.14,\n",
    "    damping=0.0))\n",
    "Joint2 = plant.AddJoint(RevoluteJoint(\n",
    "    name=\"Joint2\", frame_on_parent=Joint2_Frame,\n",
    "    frame_on_child=link_2.body_frame(), axis=[0, 0, 1],\n",
    "    pos_lower_limit=-3.14,\n",
    "    pos_upper_limit=3.14,\n",
    "    damping=0.0))\n",
    "Joint3 = plant.AddJoint(RevoluteJoint(\n",
    "    name=\"Joint3\", frame_on_parent=Joint3_Frame,\n",
    "    frame_on_child=link_3.body_frame(), axis=[0, 0, 1],\n",
    "    pos_lower_limit=-3.14,\n",
    "    pos_upper_limit=3.14,\n",
    "    damping=0.0))\n",
    "\n",
    "plant.WeldFrames(\n",
    "    frame_on_parent_P=plant.world_frame(),\n",
    "    frame_on_child_C=link_0.body_frame(),\n",
    "    X_PC=RigidTransform.Identity())\n",
    "\n",
    "\n",
    "# add frames of interest\n",
    "G = plant.AddFrame(FixedOffsetFrame('EndEffector',\n",
    "    link_3,\n",
    "    RigidTransform(RollPitchYaw(0, 0, 0), [0, 0, 0])))"
   ]
  },
  {
   "cell_type": "code",
   "execution_count": 107,
   "metadata": {},
   "outputs": [],
   "source": [
    "# Draw RGB frames for visualization\n",
    "# only one frame for each link\n",
    "for body_name in [\"WorldFrame\", \"link_1\", \"link_2\", \"EndEffector\"]:\n",
    "    AddMultibodyTriad(plant.GetFrameByName(body_name), scene_graph, 0.20, 0.008)"
   ]
  },
  {
   "cell_type": "code",
   "execution_count": 108,
   "metadata": {},
   "outputs": [],
   "source": [
    "# Finalize and visualize\n",
    "plant.Finalize()\n",
    "renderer_name = \"renderer\"\n",
    "scene_graph.AddRenderer(renderer_name, MakeRenderEngineVtk(RenderEngineVtkParams()))\n",
    "meshcat.Delete()\n",
    "meshcat_vis = MeshcatVisualizerCpp.AddToBuilder(builder, scene_graph, meshcat)\n",
    "diagram = builder.Build()\n",
    "diagram_context = diagram.CreateDefaultContext()\n",
    "diagram.Publish(diagram_context)"
   ]
  },
  {
   "cell_type": "code",
   "execution_count": 109,
   "metadata": {},
   "outputs": [],
   "source": [
    "# write down the screw axis\n",
    "import modern_robotics as mr\n",
    "\n",
    "# step 0: compute M \n",
    "M = mr.RpToTrans(np.array([[0, 0, 1], [0, 1, 0], [-1, 0, 0]]), np.array([L1, 0, -L2]))\n",
    "# step 1: compute all the screw axis\n",
    "\n",
    "Sbar_3_0=mr.ScrewToAxis(np.array([0,0,-L2]),np.array([1,0,0]),0)\n",
    "Sbar_2_0=mr.ScrewToAxis(np.array([L1,0,0]),np.array([0,-1,0]),0)\n",
    "Sbar_1_0=mr.ScrewToAxis(np.array([0,0,0]),np.array([0,0,1]),0)\n",
    "\n",
    "def myPoE(theta1,theta2,theta3):\n",
    "    SbarMatrix_3_0=mr.VecTose3(Sbar_3_0)\n",
    "    SbarMatrix_2_0=mr.VecTose3(Sbar_2_0)\n",
    "    SbarMatrix_1_0=mr.VecTose3(Sbar_1_0)\n",
    "    return mr.MatrixExp6(SbarMatrix_1_0*theta1)@mr.MatrixExp6(SbarMatrix_2_0*theta2)@mr.MatrixExp6(SbarMatrix_3_0*theta3)@M\n"
   ]
  },
  {
   "cell_type": "code",
   "execution_count": 207,
   "metadata": {},
   "outputs": [
    {
     "name": "stdout",
     "output_type": "stream",
     "text": [
      "[[ 3.39907768e-33 -2.76012034e-33  1.00000000e+00  1.00000000e+00]\n",
      " [ 5.00000000e-01  8.66025404e-01  0.00000000e+00 -3.06161700e-17]\n",
      " [-8.66025404e-01  5.00000000e-01  3.74939946e-33 -5.00000000e-01]\n",
      " [ 0.00000000e+00  0.00000000e+00  0.00000000e+00  1.00000000e+00]]\n"
     ]
    }
   ],
   "source": [
    "# M: The homogeneous transformation matrix at home position\n",
    "theta1=0\n",
    "theta2=0\n",
    "theta3=np.pi/6\n",
    "plant.SetPositions(plant.GetMyContextFromRoot(diagram_context), my_model_instance, [theta1, theta2, theta3]) # theta1, theta2\n",
    "diagram.Publish(diagram_context)\n",
    "\n",
    "plant_context = plant.GetMyMutableContextFromRoot(diagram_context)\n",
    "T0e = G.CalcPose(plant_context, Zero_Frame)\n",
    "print(T0e.GetAsMatrix4())"
   ]
  },
  {
   "cell_type": "code",
   "execution_count": 208,
   "metadata": {},
   "outputs": [
    {
     "name": "stdout",
     "output_type": "stream",
     "text": [
      "[[ 0.00000000e+00  0.00000000e+00  1.00000000e+00  1.00000000e+00]\n",
      " [ 5.00000000e-01  8.66025404e-01  0.00000000e+00  2.77555756e-17]\n",
      " [-8.66025404e-01  5.00000000e-01  0.00000000e+00 -5.00000000e-01]\n",
      " [ 0.00000000e+00  0.00000000e+00  0.00000000e+00  1.00000000e+00]]\n"
     ]
    }
   ],
   "source": [
    "Tbs = myPoE(theta1,theta2,theta3)\n",
    "print(Tbs)"
   ]
  },
  {
   "cell_type": "code",
   "execution_count": 217,
   "metadata": {},
   "outputs": [],
   "source": [
    "def myGeometrixJacobian(theta1,theta2,theta3):\n",
    "    SbarMatrix_2_0=mr.VecTose3(Sbar_2_0)\n",
    "    SbarMatrix_1_0=mr.VecTose3(Sbar_1_0)\n",
    "    # compute the SE3 for each frame\n",
    "    T_01 = mr.MatrixExp6(SbarMatrix_1_0*theta1)\n",
    "    T_12 = mr.MatrixExp6(SbarMatrix_2_0*theta2)\n",
    "    J1 = Sbar_1_0.reshape(6,1)\n",
    "    J2 = np.matmul(mr.Adjoint(T_01), Sbar_2_0.reshape(6,1))\n",
    "    J3 = np.matmul(mr.Adjoint(T_01@T_12), Sbar_3_0.reshape(6,1))\n",
    "    return  np.block([J1, J2, J3])\n"
   ]
  },
  {
   "cell_type": "code",
   "execution_count": 218,
   "metadata": {},
   "outputs": [
    {
     "name": "stdout",
     "output_type": "stream",
     "text": [
      "[[ 0.   0.   1. ]\n",
      " [ 0.  -1.   0. ]\n",
      " [ 1.   0.   0. ]\n",
      " [ 0.   0.   0. ]\n",
      " [ 0.   0.  -0.5]\n",
      " [ 0.  -1.   0. ]]\n"
     ]
    }
   ],
   "source": [
    "J = myGeometrixJacobian(theta1,theta2,theta3)\n",
    "print(J)\n"
   ]
  },
  {
   "cell_type": "code",
   "execution_count": 219,
   "metadata": {},
   "outputs": [
    {
     "name": "stdout",
     "output_type": "stream",
     "text": [
      "[[ 0.00000000e+00  6.12323400e-17  1.00000000e+00]\n",
      " [ 0.00000000e+00 -1.00000000e+00  0.00000000e+00]\n",
      " [ 1.00000000e+00  6.12323400e-17  3.74939946e-33]\n",
      " [ 3.06161700e-17  5.00000000e-01  0.00000000e+00]\n",
      " [ 1.00000000e+00  3.06161700e-17  0.00000000e+00]\n",
      " [ 0.00000000e+00 -1.87469973e-33  0.00000000e+00]]\n",
      "[[ 3.06161700e-17  5.00000000e-01  0.00000000e+00]\n",
      " [ 1.00000000e+00  3.06161700e-17  0.00000000e+00]\n",
      " [ 0.00000000e+00 -1.87469973e-33  0.00000000e+00]]\n"
     ]
    }
   ],
   "source": [
    "J_G  = plant.CalcJacobianSpatialVelocity(plant_context, JacobianWrtVariable.kQDot, G, [0,0,0], Zero_Frame, Zero_Frame)\n",
    "# JA_G = plant.CalcJacobianTranslationalVelocity(plant_context, JacobianWrtVariable.kQDot, G, [0,0,0], Zero_Frame, Zero_Frame)\n",
    "print(J_G)\n",
    "# print(JA_G)"
   ]
  }
 ],
 "metadata": {
  "interpreter": {
   "hash": "1e3c91a7df6440a66411b6a33fba6290842ce153d109fab13db365f1215310a5"
  },
  "kernelspec": {
   "display_name": "Python 3.8.10 ('env': venv)",
   "language": "python",
   "name": "python3"
  },
  "language_info": {
   "codemirror_mode": {
    "name": "ipython",
    "version": 3
   },
   "file_extension": ".py",
   "mimetype": "text/x-python",
   "name": "python",
   "nbconvert_exporter": "python",
   "pygments_lexer": "ipython3",
   "version": "3.8.10"
  },
  "orig_nbformat": 4
 },
 "nbformat": 4,
 "nbformat_minor": 2
}
