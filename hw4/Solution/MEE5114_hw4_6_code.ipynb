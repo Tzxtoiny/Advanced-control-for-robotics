{
 "cells": [
  {
   "cell_type": "code",
   "execution_count": 60,
   "metadata": {},
   "outputs": [],
   "source": [
    "import numpy as np\n",
    "import matplotlib.pyplot as plt\n",
    "import pydot\n",
    "from IPython.display import display, SVG, clear_output\n",
    "\n",
    "from pydrake.math import RigidTransform, RollPitchYaw\n",
    "from pydrake.multibody.plant import AddMultibodyPlantSceneGraph\n",
    "from pydrake.all import (Parser, StartMeshcat, DiagramBuilder,\n",
    "                        MeshcatVisualizerCpp, JacobianWrtVariable,\n",
    "                        MakeRenderEngineVtk, RenderEngineVtkParams,\n",
    "                        Simulator, CoulombFriction, HalfSpace, \n",
    "                        RotationMatrix, RotationalInertia,LogVectorOutput)\n",
    "from pydrake.geometry import (\n",
    "    Box,\n",
    "    Cylinder\n",
    ")\n",
    "\n",
    "from pydrake.multibody.tree import (\n",
    "    PrismaticJoint,\n",
    "    UnitInertia,\n",
    "    SpatialInertia,\n",
    "    RevoluteJoint,\n",
    "    FixedOffsetFrame,\n",
    "    WeldJoint\n",
    ")\n",
    "\n",
    "from manipulation.meshcat_cpp_utils import MeshcatJointSliders\n",
    "from manipulation.scenarios import AddMultibodyTriad\n",
    "import modern_robotics as mr\n",
    "from pydrake.systems.framework import LeafSystem"
   ]
  },
  {
   "cell_type": "code",
   "execution_count": 61,
   "metadata": {},
   "outputs": [
    {
     "name": "stderr",
     "output_type": "stream",
     "text": [
      "INFO:drake:Meshcat listening for connections at http://localhost:7005\n"
     ]
    }
   ],
   "source": [
    "meshcat = StartMeshcat()"
   ]
  },
  {
   "cell_type": "code",
   "execution_count": 62,
   "metadata": {},
   "outputs": [
    {
     "data": {
      "text/plain": [
       "<pydrake.systems.analysis.SimulatorStatus at 0x7fe8e09cbab0>"
      ]
     },
     "execution_count": 62,
     "metadata": {},
     "output_type": "execute_result"
    }
   ],
   "source": [
    "# Build robot from code\n",
    "builder = DiagramBuilder()\n",
    "step_size = 1e-3\n",
    "plant, scene_graph = AddMultibodyPlantSceneGraph(builder, step_size)\n",
    "\n",
    "# Some parameters\n",
    "L0 = 0.5\n",
    "L1 = 0.7\n",
    "L2 = 0.4\n",
    "\n",
    "h = 0.06\n",
    "w = 0.08\n",
    "r = 0.05\n",
    "\n",
    "m = 1\n",
    "\n",
    "RGBA_Color = [0.5, 0.5, 0.5, 1]\n",
    "mu = 0.4\n",
    "\n",
    "my_model_instance = plant.AddModelInstance(\"my_robot\")\n",
    "\n",
    "inertia_link_0 = SpatialInertia.MakeFromCentralInertia(\n",
    "    m, [0, 0, L0/2], RotationalInertia(m*(3*r**2+L0**2)/12, m*(3*r**2+L0**2)/12, m*r**2/2))\n",
    "inertia_link_1 = SpatialInertia.MakeFromCentralInertia(\n",
    "    m, [0, 0, L1/2], RotationalInertia(m*(w**2+L1**2)/12, m*(h**2+L1**2)/12, m*(h**2+w**2)/12))\n",
    "inertia_link_2 = SpatialInertia.MakeFromCentralInertia(\n",
    "    m, [0, 0, L2/2], RotationalInertia(m*(w**2+L2**2)/12, m*(h**2+L2**2)/12, m*(h**2+w**2)/12))\n",
    "\n",
    "link_0 = plant.AddRigidBody(\n",
    "    \"link_0\", my_model_instance, inertia_link_0)\n",
    "link_1 = plant.AddRigidBody(\n",
    "    \"link_1\", my_model_instance, inertia_link_1)\n",
    "link_2 = plant.AddRigidBody(\n",
    "    \"link_2\", my_model_instance, inertia_link_2)\n",
    "\n",
    "\n",
    "plant.RegisterVisualGeometry(\n",
    "    link_0,\n",
    "    RigidTransform(RollPitchYaw(0, 0, 0), [0, 0, L0/2]),\n",
    "    Cylinder(r, L0),\n",
    "    \"link_0\",\n",
    "    RGBA_Color)\n",
    "plant.RegisterVisualGeometry(\n",
    "    link_1,\n",
    "    RigidTransform(RollPitchYaw(0, 0, 0), [0, 0, L1/2]),\n",
    "    Box(h, w, L1),\n",
    "    \"link_1\",\n",
    "    RGBA_Color)\n",
    "plant.RegisterVisualGeometry(\n",
    "    link_2,\n",
    "    RigidTransform(RollPitchYaw(0, 0, 0), [0, 0, L2/2]),\n",
    "    Box(h, w, L2),\n",
    "    \"link_2\",\n",
    "    RGBA_Color)\n",
    "\n",
    "frame_on_link_0 = plant.AddFrame(FixedOffsetFrame(\n",
    "    link_0,\n",
    "    RigidTransform(RollPitchYaw(0, 0, 0), [0, 0, L0])))\n",
    "\n",
    "frame_on_link_1 = plant.AddFrame(FixedOffsetFrame(\n",
    "    link_1,\n",
    "    RigidTransform(RollPitchYaw(0, 0, 0), [0, 0, L1])))\n",
    "\n",
    "plant.AddJoint(RevoluteJoint(\n",
    "    name=\"joint_0_to_1\", frame_on_parent=frame_on_link_0,\n",
    "    frame_on_child=link_1.body_frame(), axis=[1, 0, 0]))\n",
    "\n",
    "plant.AddJoint(RevoluteJoint(\n",
    "    name=\"joint_1_to_2\", frame_on_parent=frame_on_link_1,\n",
    "    frame_on_child=link_2.body_frame(), axis=[1, 0, 0]))\n",
    "\n",
    "plant.WeldFrames(\n",
    "    frame_on_parent_P=plant.world_frame(),\n",
    "    frame_on_child_C=link_0.body_frame(),\n",
    "    X_PC=RigidTransform(RollPitchYaw(0, 0, 0), [0, 0, 0]))\n",
    "\n",
    "# Draw RGB frames for visualization\n",
    "for body_name in [\"link_0\", \"link_1\", \"link_2\"]:\n",
    "    AddMultibodyTriad(plant.GetFrameByName(body_name), scene_graph, 0.20, 0.008)\n",
    "\n",
    "# Finalize and visualize\n",
    "plant.Finalize()\n",
    "\n",
    "renderer_name = \"renderer\"\n",
    "scene_graph.AddRenderer(\n",
    "    renderer_name, MakeRenderEngineVtk(RenderEngineVtkParams()))\n",
    "\n",
    "meshcat.Delete()\n",
    "meshcat_vis = MeshcatVisualizerCpp.AddToBuilder(\n",
    "    builder, scene_graph, meshcat)\n",
    "\n",
    "logger=LogVectorOutput(plant.get_state_output_port(), builder)\n",
    "\n",
    "diagram = builder.Build()\n",
    "\n",
    "diagram_context = diagram.CreateDefaultContext()\n",
    "plant_context = plant.GetMyMutableContextFromRoot(diagram_context)\n",
    "plant.SetPositions(plant_context, plant.GetModelInstanceByName(\"my_robot\"),\n",
    "                   [1.0, 2.0])  # theta1, theta2\n",
    "\n",
    "diagram.Publish(diagram_context)\n",
    "\n",
    "simulator = Simulator(diagram, diagram_context)\n",
    "simulator.set_publish_every_time_step(True)\n",
    "simulator.set_target_realtime_rate(1)\n",
    "simulator.Initialize()\n",
    "diagram.Publish(diagram_context)\n",
    "simulator.AdvanceTo(10)\n"
   ]
  },
  {
   "cell_type": "code",
   "execution_count": 63,
   "metadata": {},
   "outputs": [],
   "source": [
    "# please write your own simulator below\n",
    "import mydynamics as md\n",
    "\n",
    "# kinematics parameters\n",
    "L0 = 0.5\n",
    "L1 = 0.7\n",
    "L2 = 0.4\n",
    "\n",
    "h = 0.06\n",
    "w = 0.08\n",
    "r = 0.05\n",
    "\n",
    "m = 1 #link mass i=1,2\n",
    "\n",
    "n=2 # n-joints\n",
    "\n",
    "# body twist:  i-th scewaxis  w.r.t link i\n",
    "tw1b=md.generate_twist(0,0,0,1,0,0)\n",
    "tw2b=md.generate_twist(0,0,0,1,0,0)\n",
    "tw_b_all=np.concatenate((np.array([tw1b]),np.array([tw2b]))).T\n",
    "\n",
    "\n",
    "#  all links' kinematics para and inertia para\n",
    "g_i=np.zeros((4,4,n))\n",
    "I_i=np.zeros((6,6,n))\n",
    "\n",
    "# link 1 g_i(i)=g_{i-1,i} ith inetia expressed in link i frame\n",
    "g_i[0:3,0:3,0]=md.xyz_spatial(0,0,0)\n",
    "g_i[0:3,3,0]=np.array([0,0,L0])\n",
    "g_i[3,3,0]=1\n",
    "Ic=np.array([[(w**2+L1**2)/12,0,0],\n",
    "                     [0,(h**2+L1**2)/12,0],\n",
    "                     [0,0,(w**2+h**2)/12]])\n",
    "I_i[:,:,0]=md.spatialinertia_fromCoM(md.generate_SE3((0,0,0),np.array([0,0,L1/2])),m,Ic)\n",
    "\n",
    "# link 2 g_i(i)=g_{i-1,i} ith inetia expressed in link i frame\n",
    "g_i[0:3,0:3,1]=md.xyz_spatial(0,0,0)\n",
    "g_i[0:3,3,1]=np.array([0,0,L1])\n",
    "g_i[3,3,1]=1\n",
    "Ic=np.array([[(w**2+L2**2)/12,0,0],\n",
    "                     [0,(h**2+L2**2)/12,0],\n",
    "                     [0,0,(w**2+h**2)/12]])\n",
    "I_i[:,:,1]=md.spatialinertia_fromCoM(md.generate_SE3((0,0,0),np.array([0,0,L2/2])),m,Ic)\n",
    "\n",
    "def RNEA(q,dq,ddq,graivity):\n",
    "    # graivity is a positive value\n",
    "    # No F_ext here\n",
    "\n",
    "    # q=np.array([q1,q2,...,qn]) nx1\n",
    "    # q=np.array([dq1,dq2,...,dqn]) nx1\n",
    "    # q=np.array([ddq1,ddq2,...,ddqn]) nx1\n",
    "\n",
    "    V=np.zeros((6,n))\n",
    "    A=np.zeros((6,n))\n",
    "    F=np.zeros((6,n))\n",
    "    tau=np.zeros(n)\n",
    "    Ag=np.array([0,0,0,0,0,graivity])\n",
    "    for i in range(n):\n",
    "        if i==0:\n",
    "            V[:,i]=tw_b_all[:,i]*dq[i]\n",
    "            A[:,i]=md.Ad_g_inv(g_i[:,:,i]@md.exp_g(tw_b_all[:,i],q[i]))@Ag+tw_b_all[:,i]*ddq[i]+md.ad_V(V[:,i])@tw_b_all[:,i]*dq[i]\n",
    "        else:\n",
    "            V[:,i]=md.Ad_g_inv(g_i[:,:,i]@md.exp_g(tw_b_all[:,i],q[i]))@V[:,i-1]+tw_b_all[:,i]*dq[i]\n",
    "            A[:,i]=md.Ad_g_inv(g_i[:,:,i]@md.exp_g(tw_b_all[:,i],q[i]))@A[:,i-1]+tw_b_all[:,i]*ddq[i]+md.ad_V(V[:,i])@tw_b_all[:,i]*dq[i]\n",
    "        F[:,i]=I_i[:,:,i]@A[:,i]-md.ad_V(V[:,i]).T@I_i[:,:,i]@V[:,i]\n",
    "    for i in range(n-1,-1,-1):\n",
    "        tau[i]=tw_b_all[:,i]@F[:,i]\n",
    "        if i!=0:\n",
    "            F[:,i-1]=F[:,i-1]+md.Ad_g_inv(g_i[:,:,i]@md.exp_g(tw_b_all[:,i],q[i])).T@F[:,i]\n",
    "    return tau\n",
    "\n",
    "def inertiamatrix(q):\n",
    "    # inertia matrix by Composite-Rigid-Body Algorithm\n",
    "    M=np.zeros((n,n))\n",
    "    I_i_composite=I_i.copy()\n",
    "    for i in range(n-1,-1,-1):\n",
    "        if i-1 >=0 :\n",
    "            X_star=md.Ad_g_inv(g_i[:,:,i]@md.exp_g(tw_b_all[:,i],q[i])).T\n",
    "            X=md.Ad_g_inv(g_i[:,:,i]@md.exp_g(tw_b_all[:,i],q[i]))\n",
    "            I_i_composite[:,:,i-1]=I_i_composite[:,:,i-1]+X_star@I_i_composite[:,:,i]@X\n",
    "        F=I_i_composite[:,:,i]@tw_b_all[:,i]\n",
    "        M[i,i]=tw_b_all[:,i]@F\n",
    "        j=i\n",
    "        while j-1>=0 :\n",
    "            F=md.Ad_g_inv(g_i[:,:,j]@md.exp_g(tw_b_all[:,j],q[j])).T@F\n",
    "            j=j-1\n",
    "            M[i,j]=F@tw_b_all[:,j]\n",
    "            M[j,i]=M[i,j].T   \n",
    "    return M\n",
    "\n",
    "def FD(q,dq,tau,gravity):\n",
    "    C_N_all=RNEA(q,dq,np.zeros(n),gravity)\n",
    "    \n",
    "    # You can use RNEA to get M \n",
    "    # M = np.zeros((n,n))\n",
    "    # for i in range(n):\n",
    "    #     ddq=np.identity(n)[:,i]\n",
    "    #     M[:,i]=RNEA(q,np.zeros(n),ddq,0)\n",
    "\n",
    "    # Here we using Composite-Rigid-Body Algorithm to compute inertia matrix\n",
    "    M=inertiamatrix(q)\n",
    "\n",
    "    ddq=np.linalg.solve(M,tau-C_N_all)\n",
    "    return ddq\n"
   ]
  },
  {
   "cell_type": "markdown",
   "metadata": {},
   "source": [
    "### (b)"
   ]
  },
  {
   "cell_type": "code",
   "execution_count": 64,
   "metadata": {},
   "outputs": [
    {
     "name": "stdout",
     "output_type": "stream",
     "text": [
      "[-9.37132033 -0.04595413]\n"
     ]
    }
   ],
   "source": [
    "# Test \n",
    "q=np.array([1,2.0])\n",
    "dq=np.array([1.0,2.0])\n",
    "ddq=np.array([1.0,2.0])\n",
    "\n",
    "tau=RNEA(q,dq,ddq,9.8)\n",
    "print(tau)"
   ]
  },
  {
   "cell_type": "markdown",
   "metadata": {},
   "source": [
    "### (c)"
   ]
  },
  {
   "cell_type": "code",
   "execution_count": 65,
   "metadata": {},
   "outputs": [
    {
     "name": "stdout",
     "output_type": "stream",
     "text": [
      "[18.8355595  41.43666388]\n"
     ]
    }
   ],
   "source": [
    "# Test \n",
    "q=np.array([1.0,2.0])\n",
    "dq=np.array([1.0,2.0])\n",
    "tau=np.array([1.0,2.0])\n",
    "\n",
    "ddq=FD(q,dq,tau,9.8)\n",
    "print(ddq)"
   ]
  },
  {
   "cell_type": "markdown",
   "metadata": {},
   "source": [
    "### (d)"
   ]
  },
  {
   "cell_type": "code",
   "execution_count": 66,
   "metadata": {},
   "outputs": [
    {
     "data": {
      "image/png": "[encoded data removed]",
      "text/plain": [
       "<Figure size 432x288 with 2 Axes>"
      ]
     },
     "metadata": {
      "needs_background": "light"
     },
     "output_type": "display_data"
    }
   ],
   "source": [
    "# Initial states:\n",
    "q=np.array([1.0,2.0])\n",
    "dq=np.array([0,0.0])\n",
    "ddq=np.array([0.0,0.0])\n",
    "\n",
    "delat_t=0.001\n",
    "totaltime=10\n",
    "step_num=round(totaltime/delat_t)\n",
    "my_q=np.zeros((step_num,2))\n",
    "for i in range(step_num):\n",
    "    dq+=ddq*delat_t\n",
    "    q+=dq*delat_t\n",
    "    ddq=FD(q,dq,0,9.8)\n",
    "    my_q[i,:]=q\n",
    "\n",
    "\n",
    "# Plot the data\n",
    "t=np.linspace(0,totaltime,round(totaltime/delat_t))\n",
    "fig1, (ax1, ax2) = plt.subplots(2, 1, constrained_layout=True)\n",
    "ax1.plot(t,my_q[:,0],label = \"theta 0\")\n",
    "ax1.plot(t,my_q[:,1],label = 'theta 1')\n",
    "ax1.set_xlabel(\"Time (s)\")\n",
    "ax1.set_ylabel(\"Angle (deg)\")\n",
    "ax1.set_title(\"My simulation\")\n",
    "ax1.legend()\n",
    "\n",
    "log=logger.FindLog(diagram_context)\n",
    "ax2.plot(log.sample_times(),log.data()[0,:],label = \"theta 0\")\n",
    "ax2.plot(log.sample_times(),log.data()[1,:],label = \"theta 1\")\n",
    "ax2.set_xlabel(\"Time (s)\")\n",
    "ax2.set_ylabel(\"Angle (deg)\")\n",
    "ax2.set_title(\"Drake's simulation\")\n",
    "ax2.legend()\n",
    "\n",
    "plt.show()"
   ]
  }
 ],
 "metadata": {
  "interpreter": {
   "hash": "084cdbbd09d395aa1b9ce270c660b5788e74362f30ebc26f7ad3ec3bdc617d8f"
  },
  "kernelspec": {
   "display_name": "drake_env",
   "language": "python",
   "name": "python3"
  },
  "language_info": {
   "codemirror_mode": {
    "name": "ipython",
    "version": 3
   },
   "file_extension": ".py",
   "mimetype": "text/x-python",
   "name": "python",
   "nbconvert_exporter": "python",
   "pygments_lexer": "ipython3",
   "version": "3.8.10"
  },
  "orig_nbformat": 4
 },
 "nbformat": 4,
 "nbformat_minor": 2
}
