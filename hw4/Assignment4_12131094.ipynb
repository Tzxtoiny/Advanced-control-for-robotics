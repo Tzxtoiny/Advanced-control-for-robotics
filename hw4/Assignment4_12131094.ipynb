{
 "cells": [
  {
   "cell_type": "markdown",
   "metadata": {},
   "source": []
  },
  {
   "cell_type": "markdown",
   "metadata": {},
   "source": [
    "## Advanced Control for Robotics - Homework 4\n",
    "\n",
    "<p align=\"right\"> 涂志鑫 12131094 </p>\n",
    "<p align=\"right\"> 2022.04 </p>"
   ]
  },
  {
   "cell_type": "markdown",
   "metadata": {},
   "source": [
    "\n",
    "#### Problem 1\n",
    "\n",
    "#### Solution: \n",
    "（a) \n",
    "The pose of frame{A} is $^OT_A = (R,P)$, while it is moving with $\\nu=\\left[ \\begin{matrix} w \\\\  v  \\end{matrix}\\right]$, so the derivate of the $^oX_A$ is:\n",
    "$$\\frac{d}{dt}[^oX_A] =\\left[ \\begin{matrix} \\dot{R} & 0 \\\\  ({[p]w})' & \\dot{R}  \\end{matrix}\\right] = \\left[ \\begin{matrix} w\\times R & 0 \\\\  (\\dot{[p]}w+[p]\\dot{w}) & w\\times R  \\end{matrix}\\right] =\\left[ \\begin{matrix} [w] R & 0 \\\\  ([\\dot{p}]w+[p]\\dot{w}) & [w]R  \\end{matrix}\\right]$$\n",
    "Let's denote that $\\dot{p} = V+W\\times p$,$[a\\times b] = [a][b]-[b][a]$ , the third term can be simplified as \n",
    "$$ \\begin{aligned}([\\dot{p}]w+[p]\\dot{w}) &= [v]R+[w\\times p]R+[p][w]R\\\\\n",
    "& = [v]R +[w][p]R - [p][w]R+ [p][w]R \\\\ & =[v]R + [w][p]R\n",
    "\\end{aligned}$$\n",
    "\n",
    "Therefore,\n",
    "$$\\begin{aligned}\n",
    "    \\frac{d}{dt}[^oX_A] &= \\left[ \\begin{matrix} [w] R & 0 \\\\  [v]R + [w][p]R& [w]R  \\end{matrix}\\right]\\\\ & = \\left[ \\begin{matrix} [w]  & 0 \\\\  [v] & [w]  \\end{matrix}\\right] \\left[ \\begin{matrix} R & 0 \\\\  [p]R& R  \\end{matrix}\\right]\\\\\n",
    "    & = \\left[ \\begin{matrix} [w]  & 0 \\\\  [v] & [w]  \\end{matrix}\\right] {^oX_A}\n",
    "\\end{aligned}$$ \n"
   ]
  },
  {
   "cell_type": "markdown",
   "metadata": {},
   "source": [
    "#### Problem 2\n",
    "\n",
    "##### Solution:\n",
    "Assume $^0C=[C_x(t),0,0]^T$.\n",
    "According to the previous problem, we can easily know the $^c\\nu = [0,v/r,0,0,0,0]^T$.\n",
    "The twist of the body in frame{0} is $^0\\nu =[0,\\frac{v}{r},0,0,0,\\frac{C_x(t) v}{r}]^T$.\n",
    "(a) \n",
    "Because the cylinder rolls with a constant velocity $v$, the derivate of the $C_x(t)$ is $C'_x(t) = v $\n",
    "Find the $^oA$，since frame{o} is fixed, the expression of $^o\\mathbb{A}$ is\n",
    "$$^o\\mathbb{A} = \\frac{d}{dt}[^o\\nu] = \\left[ \\begin{matrix} 0\\\\0\\\\0\\\\0\\\\0\\\\ C'_x(t)v/r \\end{matrix}\\right] = \\left[ \\begin{matrix} 0\\\\0\\\\0\\\\0\\\\0\\\\ \\frac{v^2}{r} \\end{matrix}\\right]$$\n",
    "\n",
    "(b)\n",
    "$${^c}X_o = \\left[ \\begin{matrix} I_{3\\times3}  & 0 \\\\  [^oP_c] & I_{3\\times3}  \\end{matrix}\\right]  $$\n",
    "$$^c\\mathbb{A} =  {^c}\\dot{\\nu}_c + {^c}\\nu \\times {^c}\\nu_c = {^c}X_o{^o}\\mathbb{A}= \\left[ \\begin{matrix} I_{3\\times3}  & 0 \\\\  [^oP_c] & I_{3\\times3}  \\end{matrix}\\right]\\left[ \\begin{matrix} 0\\\\0\\\\0\\\\0\\\\0\\\\ \\frac{v^2}{r} \\end{matrix}\\right] = \\left[ \\begin{matrix} 0\\\\0\\\\0\\\\0\\\\0\\\\ \\frac{v^2}{r} \\end{matrix}\\right] $$\n"
   ]
  },
  {
   "cell_type": "markdown",
   "metadata": {},
   "source": [
    "#### Problem 3\n",
    "\n",
    "#### Solution:\n",
    "$\\dot{M}-2c = \\sum_i(\\dot{J_i^T}I_iJ_i + J_i^T\\dot{I_i}J_i + J_i^T I_i\\dot{J_i}) - 2\\sum_i(J_i^TI_i\\dot{J_i}-J_i^TI_i\\nu_i\\times J_i-J_i^T\\nu_i\\times^*I_iJ_i)$\n",
    "Denote that $I_i$ is constant, so $\\dot{I_i} = 0$, and $I_i$ is a symmetric matrix, $I_i^T = I_i$.\n",
    "\n",
    "$\\dot{M}-2c = \\sum_i(\\dot{J_i^T}I_iJ_i - J_i^T I_i\\dot{J_i} - 2J_i^TI_i\\nu_i\\times J_i-2J_i^T\\nu_i\\times^*I_iJ_i)$ \n",
    "\n",
    "$\\begin{aligned}(\\dot{M}-2c)^T &= \\sum_i(J_i^TI_i\\dot{J_i} - \\dot{J_i^T} I_iJ_i - 2J_i^T[\\nu_i\\times]^T I_iJ_i-2J_i^TI_i[\\nu_i\\times^*]^TJ_i)\\\\\n",
    "& = \\sum_i(J_i^TI_i\\dot{J_i} - \\dot{J_i^T} I_iJ_i + 2J_i^TI_i[\\nu\\times^*]J_i+ 2J_i^T[\\nu_i\\times]^TI_iJ_i)\n",
    "\\end{aligned}$  \n",
    "Denote that $[\\nu_i\\times]^T = -[\\nu\\times^*]$.\n",
    "Therefore,\n",
    "$$\n",
    "  (\\dot{M}-2c)+(\\dot{M}-2c)^T = 0\n",
    "$$\n",
    "That is prove that $\\dot{M}-2c$ is skew symmetric.\n",
    "\n"
   ]
  },
  {
   "cell_type": "markdown",
   "metadata": {},
   "source": [
    "\n",
    "#### Problem 4\n",
    "\n",
    "#### Solution\n",
    "(a)\n",
    "\n",
    "\n",
    "(b) \n",
    "\n",
    "\n"
   ]
  },
  {
   "cell_type": "code",
   "execution_count": 1,
   "metadata": {},
   "outputs": [],
   "source": [
    "# problem 4\n",
    "import numpy as np\n",
    "import modern_robotics as mr\n"
   ]
  }
 ],
 "metadata": {
  "interpreter": {
   "hash": "aee8b7b246df8f9039afb4144a1f6fd8d2ca17a180786b69acc140d282b71a49"
  },
  "kernelspec": {
   "display_name": "Python 3.8.2 64-bit",
   "language": "python",
   "name": "python3"
  },
  "language_info": {
   "codemirror_mode": {
    "name": "ipython",
    "version": 3
   },
   "file_extension": ".py",
   "mimetype": "text/x-python",
   "name": "python",
   "nbconvert_exporter": "python",
   "pygments_lexer": "ipython3",
   "version": "3.8.2"
  },
  "orig_nbformat": 4
 },
 "nbformat": 4,
 "nbformat_minor": 2
}
